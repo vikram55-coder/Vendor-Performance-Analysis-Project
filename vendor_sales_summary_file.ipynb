{
 "cells": [
  {
   "cell_type": "code",
   "execution_count": 3,
   "id": "7f0e89c7-52d4-4cda-b064-f6b305d89f4f",
   "metadata": {},
   "outputs": [
    {
     "data": {
      "text/html": [
       "<div>\n",
       "<style scoped>\n",
       "    .dataframe tbody tr th:only-of-type {\n",
       "        vertical-align: middle;\n",
       "    }\n",
       "\n",
       "    .dataframe tbody tr th {\n",
       "        vertical-align: top;\n",
       "    }\n",
       "\n",
       "    .dataframe thead th {\n",
       "        text-align: right;\n",
       "    }\n",
       "</style>\n",
       "<table border=\"1\" class=\"dataframe\">\n",
       "  <thead>\n",
       "    <tr style=\"text-align: right;\">\n",
       "      <th></th>\n",
       "      <th>VendorNumber</th>\n",
       "      <th>VendorName</th>\n",
       "      <th>Brand</th>\n",
       "      <th>Description</th>\n",
       "      <th>PurchasePrice</th>\n",
       "      <th>ActualPrice</th>\n",
       "      <th>Volume</th>\n",
       "      <th>TotalPurchaseQuantity</th>\n",
       "      <th>TotalPurchaseDollars</th>\n",
       "      <th>TotalSalesQuantity</th>\n",
       "      <th>TotalSalesDollars</th>\n",
       "      <th>TotalSalesPrice</th>\n",
       "      <th>TotalExciseTax</th>\n",
       "      <th>FreightCost</th>\n",
       "      <th>GrossProfit</th>\n",
       "      <th>ProfitMargin</th>\n",
       "      <th>StockTurnover</th>\n",
       "      <th>SalesToPurchaseRatio</th>\n",
       "    </tr>\n",
       "  </thead>\n",
       "  <tbody>\n",
       "    <tr>\n",
       "      <th>0</th>\n",
       "      <td>1128</td>\n",
       "      <td>BROWN-FORMAN CORP</td>\n",
       "      <td>1233</td>\n",
       "      <td>Jack Daniels No 7 Black</td>\n",
       "      <td>26.27</td>\n",
       "      <td>36.99</td>\n",
       "      <td>1750.0</td>\n",
       "      <td>145080</td>\n",
       "      <td>3811251.60</td>\n",
       "      <td>142049.0</td>\n",
       "      <td>5.101920e+06</td>\n",
       "      <td>672819.31</td>\n",
       "      <td>260999.20</td>\n",
       "      <td>68601.68</td>\n",
       "      <td>1290667.91</td>\n",
       "      <td>25.297693</td>\n",
       "      <td>0.979108</td>\n",
       "      <td>1.338647</td>\n",
       "    </tr>\n",
       "    <tr>\n",
       "      <th>1</th>\n",
       "      <td>4425</td>\n",
       "      <td>MARTIGNETTI COMPANIES</td>\n",
       "      <td>3405</td>\n",
       "      <td>Tito's Handmade Vodka</td>\n",
       "      <td>23.19</td>\n",
       "      <td>28.99</td>\n",
       "      <td>1750.0</td>\n",
       "      <td>164038</td>\n",
       "      <td>3804041.22</td>\n",
       "      <td>160247.0</td>\n",
       "      <td>4.819073e+06</td>\n",
       "      <td>561512.37</td>\n",
       "      <td>294438.66</td>\n",
       "      <td>144929.24</td>\n",
       "      <td>1015032.27</td>\n",
       "      <td>21.062810</td>\n",
       "      <td>0.976890</td>\n",
       "      <td>1.266830</td>\n",
       "    </tr>\n",
       "    <tr>\n",
       "      <th>2</th>\n",
       "      <td>17035</td>\n",
       "      <td>PERNOD RICARD USA</td>\n",
       "      <td>8068</td>\n",
       "      <td>Absolut 80 Proof</td>\n",
       "      <td>18.24</td>\n",
       "      <td>24.99</td>\n",
       "      <td>1750.0</td>\n",
       "      <td>187407</td>\n",
       "      <td>3418303.68</td>\n",
       "      <td>187140.0</td>\n",
       "      <td>4.538121e+06</td>\n",
       "      <td>461140.15</td>\n",
       "      <td>343854.07</td>\n",
       "      <td>123780.22</td>\n",
       "      <td>1119816.92</td>\n",
       "      <td>24.675786</td>\n",
       "      <td>0.998575</td>\n",
       "      <td>1.327594</td>\n",
       "    </tr>\n",
       "    <tr>\n",
       "      <th>3</th>\n",
       "      <td>3960</td>\n",
       "      <td>DIAGEO NORTH AMERICA INC</td>\n",
       "      <td>4261</td>\n",
       "      <td>Capt Morgan Spiced Rum</td>\n",
       "      <td>16.17</td>\n",
       "      <td>22.99</td>\n",
       "      <td>1750.0</td>\n",
       "      <td>201682</td>\n",
       "      <td>3261197.94</td>\n",
       "      <td>200412.0</td>\n",
       "      <td>4.475973e+06</td>\n",
       "      <td>420050.01</td>\n",
       "      <td>368242.80</td>\n",
       "      <td>257032.07</td>\n",
       "      <td>1214774.94</td>\n",
       "      <td>27.139908</td>\n",
       "      <td>0.993703</td>\n",
       "      <td>1.372493</td>\n",
       "    </tr>\n",
       "    <tr>\n",
       "      <th>4</th>\n",
       "      <td>3960</td>\n",
       "      <td>DIAGEO NORTH AMERICA INC</td>\n",
       "      <td>3545</td>\n",
       "      <td>Ketel One Vodka</td>\n",
       "      <td>21.89</td>\n",
       "      <td>29.99</td>\n",
       "      <td>1750.0</td>\n",
       "      <td>138109</td>\n",
       "      <td>3023206.01</td>\n",
       "      <td>135838.0</td>\n",
       "      <td>4.223108e+06</td>\n",
       "      <td>545778.28</td>\n",
       "      <td>249587.83</td>\n",
       "      <td>257032.07</td>\n",
       "      <td>1199901.61</td>\n",
       "      <td>28.412764</td>\n",
       "      <td>0.983556</td>\n",
       "      <td>1.396897</td>\n",
       "    </tr>\n",
       "  </tbody>\n",
       "</table>\n",
       "</div>"
      ],
      "text/plain": [
       "   VendorNumber                VendorName  Brand              Description  \\\n",
       "0          1128         BROWN-FORMAN CORP   1233  Jack Daniels No 7 Black   \n",
       "1          4425     MARTIGNETTI COMPANIES   3405    Tito's Handmade Vodka   \n",
       "2         17035         PERNOD RICARD USA   8068         Absolut 80 Proof   \n",
       "3          3960  DIAGEO NORTH AMERICA INC   4261   Capt Morgan Spiced Rum   \n",
       "4          3960  DIAGEO NORTH AMERICA INC   3545          Ketel One Vodka   \n",
       "\n",
       "   PurchasePrice  ActualPrice  Volume  TotalPurchaseQuantity  \\\n",
       "0          26.27        36.99  1750.0                 145080   \n",
       "1          23.19        28.99  1750.0                 164038   \n",
       "2          18.24        24.99  1750.0                 187407   \n",
       "3          16.17        22.99  1750.0                 201682   \n",
       "4          21.89        29.99  1750.0                 138109   \n",
       "\n",
       "   TotalPurchaseDollars  TotalSalesQuantity  TotalSalesDollars  \\\n",
       "0            3811251.60            142049.0       5.101920e+06   \n",
       "1            3804041.22            160247.0       4.819073e+06   \n",
       "2            3418303.68            187140.0       4.538121e+06   \n",
       "3            3261197.94            200412.0       4.475973e+06   \n",
       "4            3023206.01            135838.0       4.223108e+06   \n",
       "\n",
       "   TotalSalesPrice  TotalExciseTax  FreightCost  GrossProfit  ProfitMargin  \\\n",
       "0        672819.31       260999.20     68601.68   1290667.91     25.297693   \n",
       "1        561512.37       294438.66    144929.24   1015032.27     21.062810   \n",
       "2        461140.15       343854.07    123780.22   1119816.92     24.675786   \n",
       "3        420050.01       368242.80    257032.07   1214774.94     27.139908   \n",
       "4        545778.28       249587.83    257032.07   1199901.61     28.412764   \n",
       "\n",
       "   StockTurnover  SalesToPurchaseRatio  \n",
       "0       0.979108              1.338647  \n",
       "1       0.976890              1.266830  \n",
       "2       0.998575              1.327594  \n",
       "3       0.993703              1.372493  \n",
       "4       0.983556              1.396897  "
      ]
     },
     "execution_count": 3,
     "metadata": {},
     "output_type": "execute_result"
    }
   ],
   "source": [
    "import pandas as pd\n",
    "import matplotlib.pyplot as plt\n",
    "\n",
    "# CSV load karo\n",
    "df = pd.read_csv(r\"C:\\Users\\hp\\Desktop\\vender_prafomiss\\vendor_sales_summary.csv\")\n",
    "df.head()"
   ]
  },
  {
   "cell_type": "code",
   "execution_count": 4,
   "id": "68f81401-2577-4234-b669-70cf46ef8d57",
   "metadata": {},
   "outputs": [
    {
     "data": {
      "text/plain": [
       "(10692, 18)"
      ]
     },
     "execution_count": 4,
     "metadata": {},
     "output_type": "execute_result"
    }
   ],
   "source": [
    "df.shape\n"
   ]
  },
  {
   "cell_type": "code",
   "execution_count": 5,
   "id": "63632bcf-8b20-4fb8-88ed-244d88d4f185",
   "metadata": {},
   "outputs": [
    {
     "data": {
      "text/plain": [
       "Index(['VendorNumber', 'VendorName', 'Brand', 'Description', 'PurchasePrice',\n",
       "       'ActualPrice', 'Volume', 'TotalPurchaseQuantity',\n",
       "       'TotalPurchaseDollars', 'TotalSalesQuantity', 'TotalSalesDollars',\n",
       "       'TotalSalesPrice', 'TotalExciseTax', 'FreightCost', 'GrossProfit',\n",
       "       'ProfitMargin', 'StockTurnover', 'SalesToPurchaseRatio'],\n",
       "      dtype='object')"
      ]
     },
     "execution_count": 5,
     "metadata": {},
     "output_type": "execute_result"
    }
   ],
   "source": [
    "\n",
    "df.columns\n"
   ]
  },
  {
   "cell_type": "code",
   "execution_count": 6,
   "id": "ac1b8c9e-a2bf-4394-a3fe-b1c073b1fd67",
   "metadata": {},
   "outputs": [
    {
     "data": {
      "text/plain": [
       "VendorNumber             0\n",
       "VendorName               0\n",
       "Brand                    0\n",
       "Description              0\n",
       "PurchasePrice            0\n",
       "ActualPrice              0\n",
       "Volume                   0\n",
       "TotalPurchaseQuantity    0\n",
       "TotalPurchaseDollars     0\n",
       "TotalSalesQuantity       0\n",
       "TotalSalesDollars        0\n",
       "TotalSalesPrice          0\n",
       "TotalExciseTax           0\n",
       "FreightCost              0\n",
       "GrossProfit              0\n",
       "ProfitMargin             0\n",
       "StockTurnover            0\n",
       "SalesToPurchaseRatio     0\n",
       "dtype: int64"
      ]
     },
     "execution_count": 6,
     "metadata": {},
     "output_type": "execute_result"
    }
   ],
   "source": [
    "\n",
    "df.isnull().sum()"
   ]
  },
  {
   "cell_type": "code",
   "execution_count": 7,
   "id": "0e551543-4085-48e1-bd09-2d849ceb16cf",
   "metadata": {},
   "outputs": [],
   "source": [
    "df.fillna(0, inplace=True)"
   ]
  },
  {
   "cell_type": "code",
   "execution_count": 8,
   "id": "540a9757-9228-4146-ac34-d991ef0e03a5",
   "metadata": {},
   "outputs": [
    {
     "data": {
      "text/plain": [
       "VendorNumber               int64\n",
       "VendorName                object\n",
       "Brand                      int64\n",
       "Description               object\n",
       "PurchasePrice            float64\n",
       "ActualPrice              float64\n",
       "Volume                   float64\n",
       "TotalPurchaseQuantity      int64\n",
       "TotalPurchaseDollars     float64\n",
       "TotalSalesQuantity       float64\n",
       "TotalSalesDollars        float64\n",
       "TotalSalesPrice          float64\n",
       "TotalExciseTax           float64\n",
       "FreightCost              float64\n",
       "GrossProfit              float64\n",
       "ProfitMargin             float64\n",
       "StockTurnover            float64\n",
       "SalesToPurchaseRatio     float64\n",
       "dtype: object"
      ]
     },
     "execution_count": 8,
     "metadata": {},
     "output_type": "execute_result"
    }
   ],
   "source": [
    "df.dtypes"
   ]
  },
  {
   "cell_type": "code",
   "execution_count": 10,
   "id": "b051ca6d-6ce9-4143-8652-a65615f14d4d",
   "metadata": {},
   "outputs": [
    {
     "data": {
      "text/plain": [
       "0"
      ]
     },
     "execution_count": 10,
     "metadata": {},
     "output_type": "execute_result"
    }
   ],
   "source": [
    "df.duplicated().sum()"
   ]
  },
  {
   "cell_type": "code",
   "execution_count": 12,
   "id": "174b2bbb-7dc1-49f5-9aed-74bdf78993d9",
   "metadata": {},
   "outputs": [],
   "source": [
    "df.drop_duplicates(inplace=True)"
   ]
  },
  {
   "cell_type": "code",
   "execution_count": 9,
   "id": "75f4fac4-a072-4cd9-ae75-9076cdcf6393",
   "metadata": {},
   "outputs": [],
   "source": [
    "df['GrossProfit'] = df['TotalSalesDollars'] - df['TotalPurchaseDollars']\n",
    "df['ProfitMargin'] = (df['GrossProfit'] / df['TotalSalesDollars']) * 100\n",
    "df['FreightPerUnit'] = df['FreightCost'] / df['TotalSalesQuantity']\n",
    "df['SalesToPurchaseRatio'] = df['TotalSalesDollars'] / df['TotalPurchaseDollars']"
   ]
  },
  {
   "cell_type": "markdown",
   "id": "435ce8e6-6c3d-46ff-9168-940f1fe783e1",
   "metadata": {},
   "source": [
    "# Q1: Top 5 Vendors by Total Sales"
   ]
  },
  {
   "cell_type": "code",
   "execution_count": 13,
   "id": "7ff4db3f-7297-4d8a-af12-0864c897d128",
   "metadata": {},
   "outputs": [
    {
     "data": {
      "text/html": [
       "<div>\n",
       "<style scoped>\n",
       "    .dataframe tbody tr th:only-of-type {\n",
       "        vertical-align: middle;\n",
       "    }\n",
       "\n",
       "    .dataframe tbody tr th {\n",
       "        vertical-align: top;\n",
       "    }\n",
       "\n",
       "    .dataframe thead th {\n",
       "        text-align: right;\n",
       "    }\n",
       "</style>\n",
       "<table border=\"1\" class=\"dataframe\">\n",
       "  <thead>\n",
       "    <tr style=\"text-align: right;\">\n",
       "      <th></th>\n",
       "      <th>VendorName</th>\n",
       "      <th>TotalSalesDollars</th>\n",
       "    </tr>\n",
       "  </thead>\n",
       "  <tbody>\n",
       "    <tr>\n",
       "      <th>0</th>\n",
       "      <td>BROWN-FORMAN CORP</td>\n",
       "      <td>5.101920e+06</td>\n",
       "    </tr>\n",
       "    <tr>\n",
       "      <th>1</th>\n",
       "      <td>MARTIGNETTI COMPANIES</td>\n",
       "      <td>4.819073e+06</td>\n",
       "    </tr>\n",
       "    <tr>\n",
       "      <th>2</th>\n",
       "      <td>PERNOD RICARD USA</td>\n",
       "      <td>4.538121e+06</td>\n",
       "    </tr>\n",
       "    <tr>\n",
       "      <th>3</th>\n",
       "      <td>DIAGEO NORTH AMERICA INC</td>\n",
       "      <td>4.475973e+06</td>\n",
       "    </tr>\n",
       "    <tr>\n",
       "      <th>4</th>\n",
       "      <td>DIAGEO NORTH AMERICA INC</td>\n",
       "      <td>4.223108e+06</td>\n",
       "    </tr>\n",
       "  </tbody>\n",
       "</table>\n",
       "</div>"
      ],
      "text/plain": [
       "                 VendorName  TotalSalesDollars\n",
       "0         BROWN-FORMAN CORP       5.101920e+06\n",
       "1     MARTIGNETTI COMPANIES       4.819073e+06\n",
       "2         PERNOD RICARD USA       4.538121e+06\n",
       "3  DIAGEO NORTH AMERICA INC       4.475973e+06\n",
       "4  DIAGEO NORTH AMERICA INC       4.223108e+06"
      ]
     },
     "execution_count": 13,
     "metadata": {},
     "output_type": "execute_result"
    }
   ],
   "source": [
    "top5_sales = df.sort_values(by='TotalSalesDollars', ascending=False).head(5)\n",
    "top5_sales[['VendorName', 'TotalSalesDollars']]"
   ]
  },
  {
   "cell_type": "code",
   "execution_count": 14,
   "id": "2c42cd38-9bd8-4aae-a42f-5db7fd5ab84b",
   "metadata": {},
   "outputs": [
    {
     "data": {
      "image/png": "[encoded data removed]",
      "text/plain": [
       "<Figure size 640x480 with 1 Axes>"
      ]
     },
     "metadata": {},
     "output_type": "display_data"
    }
   ],
   "source": [
    "import matplotlib.pyplot as plt\n",
    "\n",
    "plt.bar(top5_sales['VendorName'], top5_sales['TotalSalesDollars'])\n",
    "plt.title(\"Top 5 Vendors by Sales\")\n",
    "plt.xticks(rotation=45)\n",
    "plt.ylabel(\"Total Sales ($)\")\n",
    "plt.show()"
   ]
  },
  {
   "cell_type": "markdown",
   "id": "4b183c49-5dae-4af6-848a-b9c501533555",
   "metadata": {},
   "source": [
    "# Q2: Vendors with Negative Profit Margin"
   ]
  },
  {
   "cell_type": "code",
   "execution_count": 15,
   "id": "568deea8-95a9-4538-8216-e693e3cbc35d",
   "metadata": {},
   "outputs": [
    {
     "data": {
      "text/html": [
       "<div>\n",
       "<style scoped>\n",
       "    .dataframe tbody tr th:only-of-type {\n",
       "        vertical-align: middle;\n",
       "    }\n",
       "\n",
       "    .dataframe tbody tr th {\n",
       "        vertical-align: top;\n",
       "    }\n",
       "\n",
       "    .dataframe thead th {\n",
       "        text-align: right;\n",
       "    }\n",
       "</style>\n",
       "<table border=\"1\" class=\"dataframe\">\n",
       "  <thead>\n",
       "    <tr style=\"text-align: right;\">\n",
       "      <th></th>\n",
       "      <th>VendorName</th>\n",
       "      <th>TotalSalesDollars</th>\n",
       "      <th>TotalPurchaseDollars</th>\n",
       "      <th>ProfitMargin</th>\n",
       "    </tr>\n",
       "  </thead>\n",
       "  <tbody>\n",
       "    <tr>\n",
       "      <th>304</th>\n",
       "      <td>DIAGEO NORTH AMERICA INC</td>\n",
       "      <td>176577.85</td>\n",
       "      <td>185784.10</td>\n",
       "      <td>-5.213706</td>\n",
       "    </tr>\n",
       "    <tr>\n",
       "      <th>331</th>\n",
       "      <td>DIAGEO NORTH AMERICA INC</td>\n",
       "      <td>164084.34</td>\n",
       "      <td>173952.98</td>\n",
       "      <td>-6.014370</td>\n",
       "    </tr>\n",
       "    <tr>\n",
       "      <th>437</th>\n",
       "      <td>MARTIGNETTI COMPANIES</td>\n",
       "      <td>119616.75</td>\n",
       "      <td>138369.42</td>\n",
       "      <td>-15.677294</td>\n",
       "    </tr>\n",
       "    <tr>\n",
       "      <th>464</th>\n",
       "      <td>MHW LTD</td>\n",
       "      <td>130097.76</td>\n",
       "      <td>131392.96</td>\n",
       "      <td>-0.995559</td>\n",
       "    </tr>\n",
       "    <tr>\n",
       "      <th>550</th>\n",
       "      <td>DIAGEO NORTH AMERICA INC</td>\n",
       "      <td>113966.29</td>\n",
       "      <td>115711.52</td>\n",
       "      <td>-1.531356</td>\n",
       "    </tr>\n",
       "    <tr>\n",
       "      <th>578</th>\n",
       "      <td>MHW LTD</td>\n",
       "      <td>95499.46</td>\n",
       "      <td>112111.52</td>\n",
       "      <td>-17.394926</td>\n",
       "    </tr>\n",
       "    <tr>\n",
       "      <th>606</th>\n",
       "      <td>DIAGEO NORTH AMERICA INC</td>\n",
       "      <td>100067.22</td>\n",
       "      <td>106105.50</td>\n",
       "      <td>-6.034224</td>\n",
       "    </tr>\n",
       "    <tr>\n",
       "      <th>692</th>\n",
       "      <td>FABRIZIA SPIRITS LLC</td>\n",
       "      <td>94406.84</td>\n",
       "      <td>96915.17</td>\n",
       "      <td>-2.656937</td>\n",
       "    </tr>\n",
       "    <tr>\n",
       "      <th>718</th>\n",
       "      <td>BROWN-FORMAN CORP</td>\n",
       "      <td>89296.41</td>\n",
       "      <td>93830.40</td>\n",
       "      <td>-5.077461</td>\n",
       "    </tr>\n",
       "    <tr>\n",
       "      <th>836</th>\n",
       "      <td>REMY COINTREAU USA INC</td>\n",
       "      <td>72486.63</td>\n",
       "      <td>82075.29</td>\n",
       "      <td>-13.228177</td>\n",
       "    </tr>\n",
       "  </tbody>\n",
       "</table>\n",
       "</div>"
      ],
      "text/plain": [
       "                   VendorName  TotalSalesDollars  TotalPurchaseDollars  \\\n",
       "304  DIAGEO NORTH AMERICA INC          176577.85             185784.10   \n",
       "331  DIAGEO NORTH AMERICA INC          164084.34             173952.98   \n",
       "437     MARTIGNETTI COMPANIES          119616.75             138369.42   \n",
       "464                   MHW LTD          130097.76             131392.96   \n",
       "550  DIAGEO NORTH AMERICA INC          113966.29             115711.52   \n",
       "578                   MHW LTD           95499.46             112111.52   \n",
       "606  DIAGEO NORTH AMERICA INC          100067.22             106105.50   \n",
       "692      FABRIZIA SPIRITS LLC           94406.84              96915.17   \n",
       "718         BROWN-FORMAN CORP           89296.41              93830.40   \n",
       "836    REMY COINTREAU USA INC           72486.63              82075.29   \n",
       "\n",
       "     ProfitMargin  \n",
       "304     -5.213706  \n",
       "331     -6.014370  \n",
       "437    -15.677294  \n",
       "464     -0.995559  \n",
       "550     -1.531356  \n",
       "578    -17.394926  \n",
       "606     -6.034224  \n",
       "692     -2.656937  \n",
       "718     -5.077461  \n",
       "836    -13.228177  "
      ]
     },
     "execution_count": 15,
     "metadata": {},
     "output_type": "execute_result"
    }
   ],
   "source": [
    "negative_margin = df[df['ProfitMargin'] < 0]\n",
    "negative_margin[['VendorName', 'TotalSalesDollars', 'TotalPurchaseDollars', 'ProfitMargin']].head(10)"
   ]
  },
  {
   "cell_type": "code",
   "execution_count": 16,
   "id": "8d89f1c3-fda7-4816-a6da-413f83191239",
   "metadata": {},
   "outputs": [
    {
     "name": "stdout",
     "output_type": "stream",
     "text": [
      "Total vendors with negative margin: 2127\n"
     ]
    }
   ],
   "source": [
    "print(\"Total vendors with negative margin:\", negative_margin.shape[0])"
   ]
  },
  {
   "cell_type": "code",
   "execution_count": 18,
   "id": "3083dcc1-a0da-4158-a414-7c3cfc4def55",
   "metadata": {},
   "outputs": [
    {
     "name": "stderr",
     "output_type": "stream",
     "text": [
      "C:\\Users\\hp\\AppData\\Local\\Temp\\ipykernel_5140\\228937201.py:2: SettingWithCopyWarning: \n",
      "A value is trying to be set on a copy of a slice from a DataFrame.\n",
      "Try using .loc[row_indexer,col_indexer] = value instead\n",
      "\n",
      "See the caveats in the documentation: https://pandas.pydata.org/pandas-docs/stable/user_guide/indexing.html#returning-a-view-versus-a-copy\n",
      "  df['ProfitMargin'] = (df['GrossProfit'] / df['TotalSalesDollars']) * 100\n"
     ]
    }
   ],
   "source": [
    "df = df[df['TotalSalesDollars'] > 0]  # Prevent divide by zero\n",
    "df['ProfitMargin'] = (df['GrossProfit'] / df['TotalSalesDollars']) * 100\n",
    "negative_margin = df[df['ProfitMargin'] < 0]"
   ]
  },
  {
   "cell_type": "code",
   "execution_count": 20,
   "id": "05267cd9-f5a1-479c-a6ff-7453fea7b928",
   "metadata": {},
   "outputs": [
    {
     "data": {
      "image/png": "[encoded data removed]",
      "text/plain": [
       "<Figure size 1000x500 with 1 Axes>"
      ]
     },
     "metadata": {},
     "output_type": "display_data"
    }
   ],
   "source": [
    "negative_margin_sorted = negative_margin.sort_values(by='ProfitMargin').head(10)\n",
    "\n",
    "plt.figure(figsize=(10,5))\n",
    "plt.bar(negative_margin_sorted['VendorName'], negative_margin_sorted['ProfitMargin'], color='red')\n",
    "plt.title(\"Top 7 Vendors with Negative Profit Margin\")\n",
    "plt.xlabel(\"Vendor Name\")\n",
    "plt.ylabel(\"Profit Margin (%)\")\n",
    "plt.xticks(rotation=45)\n",
    "plt.tight_layout()\n",
    "plt.show()"
   ]
  },
  {
   "cell_type": "markdown",
   "id": "cb476bdf-e0ab-4a8a-833a-b274a521dcb6",
   "metadata": {},
   "source": [
    "# Q3: Vendors with Highest Freight Per Unit"
   ]
  },
  {
   "cell_type": "code",
   "execution_count": 22,
   "id": "bbb575da-8494-4bbe-8d61-a6e1a4e7dd9a",
   "metadata": {},
   "outputs": [
    {
     "name": "stderr",
     "output_type": "stream",
     "text": [
      "C:\\Users\\hp\\AppData\\Local\\Temp\\ipykernel_5140\\620049217.py:1: SettingWithCopyWarning: \n",
      "A value is trying to be set on a copy of a slice from a DataFrame.\n",
      "Try using .loc[row_indexer,col_indexer] = value instead\n",
      "\n",
      "See the caveats in the documentation: https://pandas.pydata.org/pandas-docs/stable/user_guide/indexing.html#returning-a-view-versus-a-copy\n",
      "  df['FreightPerUnit'] = df['FreightCost'] / df['TotalSalesQuantity']\n"
     ]
    }
   ],
   "source": [
    "df['FreightPerUnit'] = df['FreightCost'] / df['TotalSalesQuantity']\n",
    "df = df[df['TotalSalesQuantity'] > 0] "
   ]
  },
  {
   "cell_type": "code",
   "execution_count": 23,
   "id": "49aa48f4-5ff2-4448-bf16-0013e830ce7b",
   "metadata": {},
   "outputs": [
    {
     "data": {
      "text/html": [
       "<div>\n",
       "<style scoped>\n",
       "    .dataframe tbody tr th:only-of-type {\n",
       "        vertical-align: middle;\n",
       "    }\n",
       "\n",
       "    .dataframe tbody tr th {\n",
       "        vertical-align: top;\n",
       "    }\n",
       "\n",
       "    .dataframe thead th {\n",
       "        text-align: right;\n",
       "    }\n",
       "</style>\n",
       "<table border=\"1\" class=\"dataframe\">\n",
       "  <thead>\n",
       "    <tr style=\"text-align: right;\">\n",
       "      <th></th>\n",
       "      <th>VendorName</th>\n",
       "      <th>FreightCost</th>\n",
       "      <th>TotalSalesQuantity</th>\n",
       "      <th>FreightPerUnit</th>\n",
       "    </tr>\n",
       "  </thead>\n",
       "  <tbody>\n",
       "    <tr>\n",
       "      <th>3695</th>\n",
       "      <td>DIAGEO NORTH AMERICA INC</td>\n",
       "      <td>257032.07</td>\n",
       "      <td>1.0</td>\n",
       "      <td>257032.07</td>\n",
       "    </tr>\n",
       "    <tr>\n",
       "      <th>5178</th>\n",
       "      <td>DIAGEO NORTH AMERICA INC</td>\n",
       "      <td>257032.07</td>\n",
       "      <td>1.0</td>\n",
       "      <td>257032.07</td>\n",
       "    </tr>\n",
       "    <tr>\n",
       "      <th>2840</th>\n",
       "      <td>DIAGEO NORTH AMERICA INC</td>\n",
       "      <td>257032.07</td>\n",
       "      <td>1.0</td>\n",
       "      <td>257032.07</td>\n",
       "    </tr>\n",
       "    <tr>\n",
       "      <th>10644</th>\n",
       "      <td>DIAGEO NORTH AMERICA INC</td>\n",
       "      <td>257032.07</td>\n",
       "      <td>1.0</td>\n",
       "      <td>257032.07</td>\n",
       "    </tr>\n",
       "    <tr>\n",
       "      <th>10514</th>\n",
       "      <td>DIAGEO NORTH AMERICA INC</td>\n",
       "      <td>257032.07</td>\n",
       "      <td>1.0</td>\n",
       "      <td>257032.07</td>\n",
       "    </tr>\n",
       "    <tr>\n",
       "      <th>4758</th>\n",
       "      <td>MARTIGNETTI COMPANIES</td>\n",
       "      <td>144929.24</td>\n",
       "      <td>1.0</td>\n",
       "      <td>144929.24</td>\n",
       "    </tr>\n",
       "    <tr>\n",
       "      <th>10631</th>\n",
       "      <td>MARTIGNETTI COMPANIES</td>\n",
       "      <td>144929.24</td>\n",
       "      <td>1.0</td>\n",
       "      <td>144929.24</td>\n",
       "    </tr>\n",
       "    <tr>\n",
       "      <th>7140</th>\n",
       "      <td>MARTIGNETTI COMPANIES</td>\n",
       "      <td>144929.24</td>\n",
       "      <td>1.0</td>\n",
       "      <td>144929.24</td>\n",
       "    </tr>\n",
       "    <tr>\n",
       "      <th>10671</th>\n",
       "      <td>MARTIGNETTI COMPANIES</td>\n",
       "      <td>144929.24</td>\n",
       "      <td>1.0</td>\n",
       "      <td>144929.24</td>\n",
       "    </tr>\n",
       "    <tr>\n",
       "      <th>10665</th>\n",
       "      <td>MARTIGNETTI COMPANIES</td>\n",
       "      <td>144929.24</td>\n",
       "      <td>1.0</td>\n",
       "      <td>144929.24</td>\n",
       "    </tr>\n",
       "  </tbody>\n",
       "</table>\n",
       "</div>"
      ],
      "text/plain": [
       "                     VendorName  FreightCost  TotalSalesQuantity  \\\n",
       "3695   DIAGEO NORTH AMERICA INC    257032.07                 1.0   \n",
       "5178   DIAGEO NORTH AMERICA INC    257032.07                 1.0   \n",
       "2840   DIAGEO NORTH AMERICA INC    257032.07                 1.0   \n",
       "10644  DIAGEO NORTH AMERICA INC    257032.07                 1.0   \n",
       "10514  DIAGEO NORTH AMERICA INC    257032.07                 1.0   \n",
       "4758      MARTIGNETTI COMPANIES    144929.24                 1.0   \n",
       "10631     MARTIGNETTI COMPANIES    144929.24                 1.0   \n",
       "7140      MARTIGNETTI COMPANIES    144929.24                 1.0   \n",
       "10671     MARTIGNETTI COMPANIES    144929.24                 1.0   \n",
       "10665     MARTIGNETTI COMPANIES    144929.24                 1.0   \n",
       "\n",
       "       FreightPerUnit  \n",
       "3695        257032.07  \n",
       "5178        257032.07  \n",
       "2840        257032.07  \n",
       "10644       257032.07  \n",
       "10514       257032.07  \n",
       "4758        144929.24  \n",
       "10631       144929.24  \n",
       "7140        144929.24  \n",
       "10671       144929.24  \n",
       "10665       144929.24  "
      ]
     },
     "execution_count": 23,
     "metadata": {},
     "output_type": "execute_result"
    }
   ],
   "source": [
    "top_freight = df.sort_values(by='FreightPerUnit', ascending=False).head(10)\n",
    "top_freight[['VendorName', 'FreightCost', 'TotalSalesQuantity', 'FreightPerUnit']]"
   ]
  },
  {
   "cell_type": "markdown",
   "id": "191e7de4-0830-4d8c-9c4e-63c4d6e5e74f",
   "metadata": {},
   "source": [
    "# Q4: Total Purchase Quantity vs. Total Sales Quantity"
   ]
  },
  {
   "cell_type": "code",
   "execution_count": 28,
   "id": "e2d4d43e-d76d-46de-9168-0931e105bfe8",
   "metadata": {},
   "outputs": [
    {
     "name": "stdout",
     "output_type": "stream",
     "text": [
      "Correlation between Purchase & Sales Quantity: 0.999\n"
     ]
    }
   ],
   "source": [
    "correlation = df['TotalPurchaseQuantity'].corr(df['TotalSalesQuantity'])\n",
    "print(\"Correlation between Purchase & Sales Quantity:\", round(correlation, 3))"
   ]
  },
  {
   "cell_type": "markdown",
   "id": "71d10118-feb3-4777-99c2-0708735a4b95",
   "metadata": {},
   "source": [
    "# Q5: Vendors with Stock Turnover < 1 (Slow-Moving Stock)"
   ]
  },
  {
   "cell_type": "code",
   "execution_count": 29,
   "id": "8ccc8b89-a8df-403c-b242-906f54be459a",
   "metadata": {},
   "outputs": [
    {
     "data": {
      "text/html": [
       "<div>\n",
       "<style scoped>\n",
       "    .dataframe tbody tr th:only-of-type {\n",
       "        vertical-align: middle;\n",
       "    }\n",
       "\n",
       "    .dataframe tbody tr th {\n",
       "        vertical-align: top;\n",
       "    }\n",
       "\n",
       "    .dataframe thead th {\n",
       "        text-align: right;\n",
       "    }\n",
       "</style>\n",
       "<table border=\"1\" class=\"dataframe\">\n",
       "  <thead>\n",
       "    <tr style=\"text-align: right;\">\n",
       "      <th></th>\n",
       "      <th>VendorName</th>\n",
       "      <th>StockTurnover</th>\n",
       "    </tr>\n",
       "  </thead>\n",
       "  <tbody>\n",
       "    <tr>\n",
       "      <th>3981</th>\n",
       "      <td>TREASURY WINE ESTATES</td>\n",
       "      <td>0.002817</td>\n",
       "    </tr>\n",
       "    <tr>\n",
       "      <th>2147</th>\n",
       "      <td>SOUTHERN WINE &amp; SPIRITS NE</td>\n",
       "      <td>0.003333</td>\n",
       "    </tr>\n",
       "    <tr>\n",
       "      <th>5213</th>\n",
       "      <td>MARTIGNETTI COMPANIES</td>\n",
       "      <td>0.004386</td>\n",
       "    </tr>\n",
       "    <tr>\n",
       "      <th>2462</th>\n",
       "      <td>ULTRA BEVERAGE COMPANY LLP</td>\n",
       "      <td>0.005747</td>\n",
       "    </tr>\n",
       "    <tr>\n",
       "      <th>5200</th>\n",
       "      <td>SOUTHERN GLAZERS W&amp;S OF NE</td>\n",
       "      <td>0.005952</td>\n",
       "    </tr>\n",
       "    <tr>\n",
       "      <th>6486</th>\n",
       "      <td>VINILANDIA USA</td>\n",
       "      <td>0.006849</td>\n",
       "    </tr>\n",
       "    <tr>\n",
       "      <th>4654</th>\n",
       "      <td>MARTIGNETTI COMPANIES</td>\n",
       "      <td>0.008333</td>\n",
       "    </tr>\n",
       "    <tr>\n",
       "      <th>4758</th>\n",
       "      <td>MARTIGNETTI COMPANIES</td>\n",
       "      <td>0.008333</td>\n",
       "    </tr>\n",
       "    <tr>\n",
       "      <th>3676</th>\n",
       "      <td>M S WALKER INC</td>\n",
       "      <td>0.008772</td>\n",
       "    </tr>\n",
       "    <tr>\n",
       "      <th>6492</th>\n",
       "      <td>SOUTHERN WINE &amp; SPIRITS NE</td>\n",
       "      <td>0.015152</td>\n",
       "    </tr>\n",
       "  </tbody>\n",
       "</table>\n",
       "</div>"
      ],
      "text/plain": [
       "                      VendorName  StockTurnover\n",
       "3981       TREASURY WINE ESTATES       0.002817\n",
       "2147  SOUTHERN WINE & SPIRITS NE       0.003333\n",
       "5213       MARTIGNETTI COMPANIES       0.004386\n",
       "2462  ULTRA BEVERAGE COMPANY LLP       0.005747\n",
       "5200  SOUTHERN GLAZERS W&S OF NE       0.005952\n",
       "6486              VINILANDIA USA       0.006849\n",
       "4654       MARTIGNETTI COMPANIES       0.008333\n",
       "4758       MARTIGNETTI COMPANIES       0.008333\n",
       "3676              M S WALKER INC       0.008772\n",
       "6492  SOUTHERN WINE & SPIRITS NE       0.015152"
      ]
     },
     "execution_count": 29,
     "metadata": {},
     "output_type": "execute_result"
    }
   ],
   "source": [
    "slow_movers = df[df['StockTurnover'] < 1]\n",
    "slow_movers[['VendorName', 'StockTurnover']].sort_values(by='StockTurnover').head(10)"
   ]
  },
  {
   "cell_type": "code",
   "execution_count": 30,
   "id": "b3466d82-616d-452f-b53d-745292ad9242",
   "metadata": {},
   "outputs": [
    {
     "data": {
      "image/png": "[encoded data removed]",
      "text/plain": [
       "<Figure size 800x400 with 1 Axes>"
      ]
     },
     "metadata": {},
     "output_type": "display_data"
    }
   ],
   "source": [
    "top_slow = slow_movers.sort_values(by='StockTurnover').head(10)\n",
    "plt.figure(figsize=(8,4))\n",
    "plt.bar(top_slow['VendorName'], top_slow['StockTurnover'], color='purple')\n",
    "plt.title(\"Vendors with Lowest Stock Turnover\")\n",
    "plt.xticks(rotation=45)\n",
    "plt.ylabel(\"Turnover Ratio\")\n",
    "plt.tight_layout()\n",
    "plt.show()"
   ]
  },
  {
   "cell_type": "code",
   "execution_count": 33,
   "id": "38e6bf5e-412d-44f4-aaa5-36eb970a4958",
   "metadata": {},
   "outputs": [
    {
     "data": {
      "text/plain": [
       "10692"
      ]
     },
     "execution_count": 33,
     "metadata": {},
     "output_type": "execute_result"
    }
   ],
   "source": [
    "\n",
    "import sqlite3\n",
    "\n",
    "df = pd.read_csv(r\"C:\\Users\\hp\\Desktop\\vender_prafomiss\\vendor_sales_summary.csv\")\n",
    "conn = sqlite3.connect(\"vendor.db\")\n",
    "df.to_sql(\"vendor_summary\", conn, if_exists=\"replace\", index=False)"
   ]
  },
  {
   "cell_type": "code",
   "execution_count": 34,
   "id": "be8b4af1-7e99-48a8-95ff-d5b5af738b07",
   "metadata": {},
   "outputs": [],
   "source": [
    "def run_sql(query):\n",
    "    return pd.read_sql_query(query, conn)"
   ]
  },
  {
   "cell_type": "markdown",
   "id": "3f3cfa3f-eff4-4ecb-9c3b-6afdb60efa50",
   "metadata": {},
   "source": [
    "# Q6 : Total Unsold Inventory Value"
   ]
  },
  {
   "cell_type": "code",
   "execution_count": 36,
   "id": "c8691ecf-01dc-4344-93a5-9463ef3666e8",
   "metadata": {},
   "outputs": [
    {
     "data": {
      "text/html": [
       "<div>\n",
       "<style scoped>\n",
       "    .dataframe tbody tr th:only-of-type {\n",
       "        vertical-align: middle;\n",
       "    }\n",
       "\n",
       "    .dataframe tbody tr th {\n",
       "        vertical-align: top;\n",
       "    }\n",
       "\n",
       "    .dataframe thead th {\n",
       "        text-align: right;\n",
       "    }\n",
       "</style>\n",
       "<table border=\"1\" class=\"dataframe\">\n",
       "  <thead>\n",
       "    <tr style=\"text-align: right;\">\n",
       "      <th></th>\n",
       "      <th>UnsoldValue</th>\n",
       "    </tr>\n",
       "  </thead>\n",
       "  <tbody>\n",
       "    <tr>\n",
       "      <th>0</th>\n",
       "      <td>8748929.54</td>\n",
       "    </tr>\n",
       "  </tbody>\n",
       "</table>\n",
       "</div>"
      ],
      "text/plain": [
       "   UnsoldValue\n",
       "0   8748929.54"
      ]
     },
     "execution_count": 36,
     "metadata": {},
     "output_type": "execute_result"
    }
   ],
   "source": [
    "run_sql(\"\"\"\n",
    "SELECT SUM((TotalPurchaseQuantity - TotalSalesQuantity) * PurchasePrice) AS UnsoldValue\n",
    "FROM vendor_summary;\n",
    "\"\"\")"
   ]
  },
  {
   "cell_type": "markdown",
   "id": "e6ddd155-9224-4a8f-b64d-10e41d8c9766",
   "metadata": {},
   "source": [
    "# Q7: Top 5 Brands by Sales to Purchase Ratio"
   ]
  },
  {
   "cell_type": "code",
   "execution_count": 37,
   "id": "062b1ca7-f705-4305-9196-13577cec6249",
   "metadata": {},
   "outputs": [
    {
     "data": {
      "text/html": [
       "<div>\n",
       "<style scoped>\n",
       "    .dataframe tbody tr th:only-of-type {\n",
       "        vertical-align: middle;\n",
       "    }\n",
       "\n",
       "    .dataframe tbody tr th {\n",
       "        vertical-align: top;\n",
       "    }\n",
       "\n",
       "    .dataframe thead th {\n",
       "        text-align: right;\n",
       "    }\n",
       "</style>\n",
       "<table border=\"1\" class=\"dataframe\">\n",
       "  <thead>\n",
       "    <tr style=\"text-align: right;\">\n",
       "      <th></th>\n",
       "      <th>Brand</th>\n",
       "      <th>SalesToPurchaseRatio</th>\n",
       "    </tr>\n",
       "  </thead>\n",
       "  <tbody>\n",
       "    <tr>\n",
       "      <th>0</th>\n",
       "      <td>4703</td>\n",
       "      <td>352.928571</td>\n",
       "    </tr>\n",
       "    <tr>\n",
       "      <th>1</th>\n",
       "      <td>11209</td>\n",
       "      <td>252.994305</td>\n",
       "    </tr>\n",
       "    <tr>\n",
       "      <th>2</th>\n",
       "      <td>5831</td>\n",
       "      <td>223.837079</td>\n",
       "    </tr>\n",
       "    <tr>\n",
       "      <th>3</th>\n",
       "      <td>3406</td>\n",
       "      <td>219.705009</td>\n",
       "    </tr>\n",
       "    <tr>\n",
       "      <th>4</th>\n",
       "      <td>5335</td>\n",
       "      <td>214.696533</td>\n",
       "    </tr>\n",
       "  </tbody>\n",
       "</table>\n",
       "</div>"
      ],
      "text/plain": [
       "   Brand  SalesToPurchaseRatio\n",
       "0   4703            352.928571\n",
       "1  11209            252.994305\n",
       "2   5831            223.837079\n",
       "3   3406            219.705009\n",
       "4   5335            214.696533"
      ]
     },
     "execution_count": 37,
     "metadata": {},
     "output_type": "execute_result"
    }
   ],
   "source": [
    "run_sql(\"\"\"\n",
    "SELECT Brand, SalesToPurchaseRatio\n",
    "FROM vendor_summary\n",
    "ORDER BY SalesToPurchaseRatio DESC\n",
    "LIMIT 5;\n",
    "\"\"\")"
   ]
  },
  {
   "cell_type": "markdown",
   "id": "e0ca80af-00e5-4a8d-b3f5-b74be7dece02",
   "metadata": {},
   "source": [
    "# 8  Average Profit Margin by Brand (Top 5)"
   ]
  },
  {
   "cell_type": "code",
   "execution_count": 38,
   "id": "2f272277-2b47-4c51-9358-a355c1912de4",
   "metadata": {},
   "outputs": [
    {
     "data": {
      "text/html": [
       "<div>\n",
       "<style scoped>\n",
       "    .dataframe tbody tr th:only-of-type {\n",
       "        vertical-align: middle;\n",
       "    }\n",
       "\n",
       "    .dataframe tbody tr th {\n",
       "        vertical-align: top;\n",
       "    }\n",
       "\n",
       "    .dataframe thead th {\n",
       "        text-align: right;\n",
       "    }\n",
       "</style>\n",
       "<table border=\"1\" class=\"dataframe\">\n",
       "  <thead>\n",
       "    <tr style=\"text-align: right;\">\n",
       "      <th></th>\n",
       "      <th>Brand</th>\n",
       "      <th>AvgMargin</th>\n",
       "    </tr>\n",
       "  </thead>\n",
       "  <tbody>\n",
       "    <tr>\n",
       "      <th>0</th>\n",
       "      <td>4703</td>\n",
       "      <td>99.716657</td>\n",
       "    </tr>\n",
       "    <tr>\n",
       "      <th>1</th>\n",
       "      <td>11209</td>\n",
       "      <td>99.604734</td>\n",
       "    </tr>\n",
       "    <tr>\n",
       "      <th>2</th>\n",
       "      <td>5831</td>\n",
       "      <td>99.553246</td>\n",
       "    </tr>\n",
       "    <tr>\n",
       "      <th>3</th>\n",
       "      <td>3406</td>\n",
       "      <td>99.544844</td>\n",
       "    </tr>\n",
       "    <tr>\n",
       "      <th>4</th>\n",
       "      <td>5335</td>\n",
       "      <td>99.534226</td>\n",
       "    </tr>\n",
       "  </tbody>\n",
       "</table>\n",
       "</div>"
      ],
      "text/plain": [
       "   Brand  AvgMargin\n",
       "0   4703  99.716657\n",
       "1  11209  99.604734\n",
       "2   5831  99.553246\n",
       "3   3406  99.544844\n",
       "4   5335  99.534226"
      ]
     },
     "execution_count": 38,
     "metadata": {},
     "output_type": "execute_result"
    }
   ],
   "source": [
    "run_sql(\"\"\"\n",
    "SELECT Brand, AVG(ProfitMargin) AS AvgMargin\n",
    "FROM vendor_summary\n",
    "GROUP BY Brand\n",
    "ORDER BY AvgMargin DESC\n",
    "LIMIT 5;\n",
    "\"\"\")"
   ]
  },
  {
   "cell_type": "markdown",
   "id": "c672e702-b5df-4ba8-b1b0-d27160303d41",
   "metadata": {},
   "source": [
    "# Q9: Vendor Contribution to Total Sales (Top 5)"
   ]
  },
  {
   "cell_type": "code",
   "execution_count": 39,
   "id": "eda8e9a4-ddf2-4365-9fcc-b3fd6051dfa7",
   "metadata": {},
   "outputs": [
    {
     "data": {
      "text/html": [
       "<div>\n",
       "<style scoped>\n",
       "    .dataframe tbody tr th:only-of-type {\n",
       "        vertical-align: middle;\n",
       "    }\n",
       "\n",
       "    .dataframe tbody tr th {\n",
       "        vertical-align: top;\n",
       "    }\n",
       "\n",
       "    .dataframe thead th {\n",
       "        text-align: right;\n",
       "    }\n",
       "</style>\n",
       "<table border=\"1\" class=\"dataframe\">\n",
       "  <thead>\n",
       "    <tr style=\"text-align: right;\">\n",
       "      <th></th>\n",
       "      <th>VendorName</th>\n",
       "      <th>TotalSalesDollars</th>\n",
       "    </tr>\n",
       "  </thead>\n",
       "  <tbody>\n",
       "    <tr>\n",
       "      <th>0</th>\n",
       "      <td>BROWN-FORMAN CORP</td>\n",
       "      <td>5.101920e+06</td>\n",
       "    </tr>\n",
       "    <tr>\n",
       "      <th>1</th>\n",
       "      <td>MARTIGNETTI COMPANIES</td>\n",
       "      <td>4.819073e+06</td>\n",
       "    </tr>\n",
       "    <tr>\n",
       "      <th>2</th>\n",
       "      <td>PERNOD RICARD USA</td>\n",
       "      <td>4.538121e+06</td>\n",
       "    </tr>\n",
       "    <tr>\n",
       "      <th>3</th>\n",
       "      <td>DIAGEO NORTH AMERICA INC</td>\n",
       "      <td>4.475973e+06</td>\n",
       "    </tr>\n",
       "    <tr>\n",
       "      <th>4</th>\n",
       "      <td>DIAGEO NORTH AMERICA INC</td>\n",
       "      <td>4.223108e+06</td>\n",
       "    </tr>\n",
       "  </tbody>\n",
       "</table>\n",
       "</div>"
      ],
      "text/plain": [
       "                 VendorName  TotalSalesDollars\n",
       "0         BROWN-FORMAN CORP       5.101920e+06\n",
       "1     MARTIGNETTI COMPANIES       4.819073e+06\n",
       "2         PERNOD RICARD USA       4.538121e+06\n",
       "3  DIAGEO NORTH AMERICA INC       4.475973e+06\n",
       "4  DIAGEO NORTH AMERICA INC       4.223108e+06"
      ]
     },
     "execution_count": 39,
     "metadata": {},
     "output_type": "execute_result"
    }
   ],
   "source": [
    "run_sql(\"\"\"\n",
    "SELECT VendorName, TotalSalesDollars\n",
    "FROM vendor_summary\n",
    "ORDER BY TotalSalesDollars DESC\n",
    "LIMIT 5;\n",
    "\"\"\")"
   ]
  },
  {
   "cell_type": "markdown",
   "id": "2b7faedb-6813-48ed-8a73-2ba58e97fcae",
   "metadata": {},
   "source": [
    "# Q10: Vendors with High Margin but Low Sales"
   ]
  },
  {
   "cell_type": "code",
   "execution_count": 40,
   "id": "384b817e-ce10-40ff-8e14-b5a74566cf87",
   "metadata": {},
   "outputs": [
    {
     "data": {
      "text/html": [
       "<div>\n",
       "<style scoped>\n",
       "    .dataframe tbody tr th:only-of-type {\n",
       "        vertical-align: middle;\n",
       "    }\n",
       "\n",
       "    .dataframe tbody tr th {\n",
       "        vertical-align: top;\n",
       "    }\n",
       "\n",
       "    .dataframe thead th {\n",
       "        text-align: right;\n",
       "    }\n",
       "</style>\n",
       "<table border=\"1\" class=\"dataframe\">\n",
       "  <thead>\n",
       "    <tr style=\"text-align: right;\">\n",
       "      <th></th>\n",
       "      <th>VendorName</th>\n",
       "      <th>ProfitMargin</th>\n",
       "      <th>TotalSalesDollars</th>\n",
       "    </tr>\n",
       "  </thead>\n",
       "  <tbody>\n",
       "    <tr>\n",
       "      <th>0</th>\n",
       "      <td>PERFECTA WINES</td>\n",
       "      <td>31.256885</td>\n",
       "      <td>9867.65</td>\n",
       "    </tr>\n",
       "    <tr>\n",
       "      <th>1</th>\n",
       "      <td>MARTIGNETTI COMPANIES</td>\n",
       "      <td>30.071035</td>\n",
       "      <td>9643.10</td>\n",
       "    </tr>\n",
       "    <tr>\n",
       "      <th>2</th>\n",
       "      <td>STATE WINE &amp; SPIRITS</td>\n",
       "      <td>32.283460</td>\n",
       "      <td>9854.52</td>\n",
       "    </tr>\n",
       "    <tr>\n",
       "      <th>3</th>\n",
       "      <td>HEAVEN HILL DISTILLERIES</td>\n",
       "      <td>31.120702</td>\n",
       "      <td>9612.99</td>\n",
       "    </tr>\n",
       "    <tr>\n",
       "      <th>4</th>\n",
       "      <td>MCCORMICK DISTILLING CO</td>\n",
       "      <td>31.909199</td>\n",
       "      <td>9698.52</td>\n",
       "    </tr>\n",
       "    <tr>\n",
       "      <th>...</th>\n",
       "      <td>...</td>\n",
       "      <td>...</td>\n",
       "      <td>...</td>\n",
       "    </tr>\n",
       "    <tr>\n",
       "      <th>3067</th>\n",
       "      <td>DIAGEO NORTH AMERICA INC</td>\n",
       "      <td>89.806174</td>\n",
       "      <td>27.86</td>\n",
       "    </tr>\n",
       "    <tr>\n",
       "      <th>3068</th>\n",
       "      <td>WINE GROUP INC</td>\n",
       "      <td>83.448276</td>\n",
       "      <td>15.95</td>\n",
       "    </tr>\n",
       "    <tr>\n",
       "      <th>3069</th>\n",
       "      <td>SAZERAC CO INC</td>\n",
       "      <td>96.436186</td>\n",
       "      <td>65.66</td>\n",
       "    </tr>\n",
       "    <tr>\n",
       "      <th>3070</th>\n",
       "      <td>DIAGEO NORTH AMERICA INC</td>\n",
       "      <td>98.974037</td>\n",
       "      <td>143.28</td>\n",
       "    </tr>\n",
       "    <tr>\n",
       "      <th>3071</th>\n",
       "      <td>PROXIMO SPIRITS INC.</td>\n",
       "      <td>99.166079</td>\n",
       "      <td>85.14</td>\n",
       "    </tr>\n",
       "  </tbody>\n",
       "</table>\n",
       "<p>3072 rows × 3 columns</p>\n",
       "</div>"
      ],
      "text/plain": [
       "                    VendorName  ProfitMargin  TotalSalesDollars\n",
       "0               PERFECTA WINES     31.256885            9867.65\n",
       "1        MARTIGNETTI COMPANIES     30.071035            9643.10\n",
       "2         STATE WINE & SPIRITS     32.283460            9854.52\n",
       "3     HEAVEN HILL DISTILLERIES     31.120702            9612.99\n",
       "4      MCCORMICK DISTILLING CO     31.909199            9698.52\n",
       "...                        ...           ...                ...\n",
       "3067  DIAGEO NORTH AMERICA INC     89.806174              27.86\n",
       "3068            WINE GROUP INC     83.448276              15.95\n",
       "3069            SAZERAC CO INC     96.436186              65.66\n",
       "3070  DIAGEO NORTH AMERICA INC     98.974037             143.28\n",
       "3071      PROXIMO SPIRITS INC.     99.166079              85.14\n",
       "\n",
       "[3072 rows x 3 columns]"
      ]
     },
     "execution_count": 40,
     "metadata": {},
     "output_type": "execute_result"
    }
   ],
   "source": [
    "run_sql(\"\"\"\n",
    "SELECT VendorName, ProfitMargin, TotalSalesDollars\n",
    "FROM vendor_summary\n",
    "WHERE ProfitMargin > 30 AND TotalSalesDollars < 10000;\n",
    "\"\"\")"
   ]
  },
  {
   "cell_type": "markdown",
   "id": "4c20379e-eae4-4f37-b4f3-c230ffba0e8c",
   "metadata": {},
   "source": [
    "# Q11: Vendors with More Purchases but Zero Sales"
   ]
  },
  {
   "cell_type": "code",
   "execution_count": 43,
   "id": "fb66bd3d-2012-40f1-b9a6-8033716b5a55",
   "metadata": {},
   "outputs": [
    {
     "data": {
      "text/html": [
       "<div>\n",
       "<style scoped>\n",
       "    .dataframe tbody tr th:only-of-type {\n",
       "        vertical-align: middle;\n",
       "    }\n",
       "\n",
       "    .dataframe tbody tr th {\n",
       "        vertical-align: top;\n",
       "    }\n",
       "\n",
       "    .dataframe thead th {\n",
       "        text-align: right;\n",
       "    }\n",
       "</style>\n",
       "<table border=\"1\" class=\"dataframe\">\n",
       "  <thead>\n",
       "    <tr style=\"text-align: right;\">\n",
       "      <th></th>\n",
       "      <th>VendorName</th>\n",
       "      <th>TotalPurchaseQuantity</th>\n",
       "      <th>TotalSalesQuantity</th>\n",
       "    </tr>\n",
       "  </thead>\n",
       "  <tbody>\n",
       "    <tr>\n",
       "      <th>0</th>\n",
       "      <td>ULTRA BEVERAGE COMPANY LLP</td>\n",
       "      <td>1140</td>\n",
       "      <td>0.0</td>\n",
       "    </tr>\n",
       "    <tr>\n",
       "      <th>1</th>\n",
       "      <td>ULTRA BEVERAGE COMPANY LLP</td>\n",
       "      <td>1044</td>\n",
       "      <td>0.0</td>\n",
       "    </tr>\n",
       "    <tr>\n",
       "      <th>2</th>\n",
       "      <td>DELICATO VINEYARDS INC</td>\n",
       "      <td>1032</td>\n",
       "      <td>0.0</td>\n",
       "    </tr>\n",
       "    <tr>\n",
       "      <th>3</th>\n",
       "      <td>STATE WINE &amp; SPIRITS</td>\n",
       "      <td>1017</td>\n",
       "      <td>0.0</td>\n",
       "    </tr>\n",
       "    <tr>\n",
       "      <th>4</th>\n",
       "      <td>M S WALKER INC</td>\n",
       "      <td>1008</td>\n",
       "      <td>0.0</td>\n",
       "    </tr>\n",
       "    <tr>\n",
       "      <th>...</th>\n",
       "      <td>...</td>\n",
       "      <td>...</td>\n",
       "      <td>...</td>\n",
       "    </tr>\n",
       "    <tr>\n",
       "      <th>173</th>\n",
       "      <td>M S WALKER INC</td>\n",
       "      <td>1</td>\n",
       "      <td>0.0</td>\n",
       "    </tr>\n",
       "    <tr>\n",
       "      <th>174</th>\n",
       "      <td>MILTONS DISTRIBUTING CO</td>\n",
       "      <td>1</td>\n",
       "      <td>0.0</td>\n",
       "    </tr>\n",
       "    <tr>\n",
       "      <th>175</th>\n",
       "      <td>DIAGEO NORTH AMERICA INC</td>\n",
       "      <td>1</td>\n",
       "      <td>0.0</td>\n",
       "    </tr>\n",
       "    <tr>\n",
       "      <th>176</th>\n",
       "      <td>WINE GROUP INC</td>\n",
       "      <td>1</td>\n",
       "      <td>0.0</td>\n",
       "    </tr>\n",
       "    <tr>\n",
       "      <th>177</th>\n",
       "      <td>MILTONS DISTRIBUTING CO</td>\n",
       "      <td>1</td>\n",
       "      <td>0.0</td>\n",
       "    </tr>\n",
       "  </tbody>\n",
       "</table>\n",
       "<p>178 rows × 3 columns</p>\n",
       "</div>"
      ],
      "text/plain": [
       "                     VendorName  TotalPurchaseQuantity  TotalSalesQuantity\n",
       "0    ULTRA BEVERAGE COMPANY LLP                   1140                 0.0\n",
       "1    ULTRA BEVERAGE COMPANY LLP                   1044                 0.0\n",
       "2        DELICATO VINEYARDS INC                   1032                 0.0\n",
       "3          STATE WINE & SPIRITS                   1017                 0.0\n",
       "4                M S WALKER INC                   1008                 0.0\n",
       "..                          ...                    ...                 ...\n",
       "173              M S WALKER INC                      1                 0.0\n",
       "174     MILTONS DISTRIBUTING CO                      1                 0.0\n",
       "175    DIAGEO NORTH AMERICA INC                      1                 0.0\n",
       "176              WINE GROUP INC                      1                 0.0\n",
       "177     MILTONS DISTRIBUTING CO                      1                 0.0\n",
       "\n",
       "[178 rows x 3 columns]"
      ]
     },
     "execution_count": 43,
     "metadata": {},
     "output_type": "execute_result"
    }
   ],
   "source": [
    "run_sql(\"\"\"\n",
    "SELECT VendorName, TotalPurchaseQuantity, TotalSalesQuantity\n",
    "FROM vendor_summary\n",
    "WHERE TotalSalesQuantity = 0 AND TotalPurchaseQuantity > 0\n",
    "ORDER BY TotalPurchaseQuantity DESC;\n",
    "\"\"\")\n"
   ]
  },
  {
   "cell_type": "markdown",
   "id": "06f2cb79-77d1-4afb-892b-e70d5dacd642",
   "metadata": {},
   "source": [
    "# Q12: Top 5 Brands by Gross Profit"
   ]
  },
  {
   "cell_type": "code",
   "execution_count": 44,
   "id": "de41a3e8-5472-4cd7-8047-a15421acce1e",
   "metadata": {},
   "outputs": [
    {
     "data": {
      "text/html": [
       "<div>\n",
       "<style scoped>\n",
       "    .dataframe tbody tr th:only-of-type {\n",
       "        vertical-align: middle;\n",
       "    }\n",
       "\n",
       "    .dataframe tbody tr th {\n",
       "        vertical-align: top;\n",
       "    }\n",
       "\n",
       "    .dataframe thead th {\n",
       "        text-align: right;\n",
       "    }\n",
       "</style>\n",
       "<table border=\"1\" class=\"dataframe\">\n",
       "  <thead>\n",
       "    <tr style=\"text-align: right;\">\n",
       "      <th></th>\n",
       "      <th>Brand</th>\n",
       "      <th>TotalGrossProfit</th>\n",
       "    </tr>\n",
       "  </thead>\n",
       "  <tbody>\n",
       "    <tr>\n",
       "      <th>0</th>\n",
       "      <td>1233</td>\n",
       "      <td>1290667.91</td>\n",
       "    </tr>\n",
       "    <tr>\n",
       "      <th>1</th>\n",
       "      <td>4261</td>\n",
       "      <td>1214774.94</td>\n",
       "    </tr>\n",
       "    <tr>\n",
       "      <th>2</th>\n",
       "      <td>3545</td>\n",
       "      <td>1199901.61</td>\n",
       "    </tr>\n",
       "    <tr>\n",
       "      <th>3</th>\n",
       "      <td>8068</td>\n",
       "      <td>1119816.92</td>\n",
       "    </tr>\n",
       "    <tr>\n",
       "      <th>4</th>\n",
       "      <td>3405</td>\n",
       "      <td>1015032.27</td>\n",
       "    </tr>\n",
       "  </tbody>\n",
       "</table>\n",
       "</div>"
      ],
      "text/plain": [
       "   Brand  TotalGrossProfit\n",
       "0   1233        1290667.91\n",
       "1   4261        1214774.94\n",
       "2   3545        1199901.61\n",
       "3   8068        1119816.92\n",
       "4   3405        1015032.27"
      ]
     },
     "execution_count": 44,
     "metadata": {},
     "output_type": "execute_result"
    }
   ],
   "source": [
    "run_sql(\"\"\"\n",
    "SELECT Brand, SUM(GrossProfit) AS TotalGrossProfit\n",
    "FROM vendor_summary\n",
    "GROUP BY Brand\n",
    "ORDER BY TotalGrossProfit DESC\n",
    "LIMIT 5;\n",
    "\"\"\")"
   ]
  },
  {
   "cell_type": "code",
   "execution_count": 45,
   "id": "b8631826-1767-4485-8c26-a700bd03c7e6",
   "metadata": {},
   "outputs": [
    {
     "data": {
      "image/png": "[encoded data removed]",
      "text/plain": [
       "<Figure size 640x480 with 1 Axes>"
      ]
     },
     "metadata": {},
     "output_type": "display_data"
    }
   ],
   "source": [
    "top_brands = run_sql(\"\"\"\n",
    "SELECT Brand, SUM(GrossProfit) AS TotalGrossProfit\n",
    "FROM vendor_summary\n",
    "GROUP BY Brand\n",
    "ORDER BY TotalGrossProfit DESC\n",
    "LIMIT 5;\n",
    "\"\"\")\n",
    "\n",
    "top_brands.plot(kind='bar', x='Brand', y='TotalGrossProfit', legend=False, color='green')\n",
    "plt.title(\"Top 5 Brands by Gross Profit\")\n",
    "plt.ylabel(\"Gross Profit ($)\")\n",
    "plt.xticks(rotation=45)\n",
    "plt.tight_layout()\n",
    "plt.show()"
   ]
  },
  {
   "cell_type": "code",
   "execution_count": null,
   "id": "3a72bfb7-bc5e-40a7-ad5f-0f0b1d3307f9",
   "metadata": {},
   "outputs": [],
   "source": []
  }
 ],
 "metadata": {
  "kernelspec": {
   "display_name": "Python 3 (ipykernel)",
   "language": "python",
   "name": "python3"
  },
  "language_info": {
   "codemirror_mode": {
    "name": "ipython",
    "version": 3
   },
   "file_extension": ".py",
   "mimetype": "text/x-python",
   "name": "python",
   "nbconvert_exporter": "python",
   "pygments_lexer": "ipython3",
   "version": "3.12.7"
  }
 },
 "nbformat": 4,
 "nbformat_minor": 5
}
